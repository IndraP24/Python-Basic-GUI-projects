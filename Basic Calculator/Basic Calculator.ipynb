{
 "cells": [
  {
   "cell_type": "markdown",
   "metadata": {},
   "source": [
    "# Basic Calculator"
   ]
  },
  {
   "cell_type": "code",
   "execution_count": 1,
   "metadata": {},
   "outputs": [],
   "source": [
    "from PyQt5 import QtWidgets, uic\n",
    "from PyQt5.QtWidgets import QApplication\n",
    "import sys\n",
    "import math"
   ]
  },
  {
   "cell_type": "code",
   "execution_count": 2,
   "metadata": {},
   "outputs": [],
   "source": [
    "def display_add():\n",
    "    '''\n",
    "    Displays the result after addition \n",
    "    '''\n",
    "    x = int(ms.input1.text())\n",
    "    y = int(ms.input2.text())\n",
    "    res = x + y\n",
    "    ms.operator_2.setText(\"+\")\n",
    "    ms.lcdNumber.display(res)"
   ]
  },
  {
   "cell_type": "code",
   "execution_count": 3,
   "metadata": {},
   "outputs": [],
   "source": [
    "def display_sub():\n",
    "    '''\n",
    "    Displays the result after subtraction \n",
    "    '''\n",
    "    x = int(ms.input1.text())\n",
    "    y = int(ms.input2.text())\n",
    "    res = x - y\n",
    "    ms.operator_2.setText(\"-\")\n",
    "    ms.lcdNumber.display(res)"
   ]
  },
  {
   "cell_type": "code",
   "execution_count": 4,
   "metadata": {},
   "outputs": [],
   "source": [
    "def display_mul():\n",
    "    '''\n",
    "    Displays the result after multiplication\n",
    "    '''\n",
    "    x = int(ms.input1.text())\n",
    "    y = int(ms.input2.text())\n",
    "    res = x * y\n",
    "    ms.operator_2.setText(\"x\")\n",
    "    ms.lcdNumber.display(res)"
   ]
  },
  {
   "cell_type": "code",
   "execution_count": 5,
   "metadata": {},
   "outputs": [],
   "source": [
    "def display_div():\n",
    "    '''\n",
    "    Displays the result after division \n",
    "    '''\n",
    "    x = int(ms.input1.text())\n",
    "    y = int(ms.input2.text())\n",
    "    res = x / y\n",
    "    ms.operator_2.setText(\"-\")\n",
    "    ms.lcdNumber.display(res)"
   ]
  },
  {
   "cell_type": "code",
   "execution_count": 6,
   "metadata": {},
   "outputs": [],
   "source": [
    "def display_pc():\n",
    "    '''\n",
    "    Displays the result after modular division \n",
    "    '''\n",
    "    x = int(ms.input1.text())\n",
    "    y = int(ms.input2.text())\n",
    "    res = x % y\n",
    "    ms.operator_2.setText(\"%\")\n",
    "    ms.lcdNumber.display(res)"
   ]
  },
  {
   "cell_type": "code",
   "execution_count": 7,
   "metadata": {},
   "outputs": [],
   "source": [
    "def display_exp():\n",
    "    '''\n",
    "    Displays the result after exponential calculation \n",
    "    '''\n",
    "    x = int(ms.input1.text())\n",
    "    y = int(ms.input2.text())\n",
    "    res = math.pow(x, y)\n",
    "    ms.operator_2.setText(\"^\")\n",
    "    ms.lcdNumber.display(res)"
   ]
  },
  {
   "cell_type": "code",
   "execution_count": 8,
   "metadata": {},
   "outputs": [
    {
     "ename": "SystemExit",
     "evalue": "0",
     "output_type": "error",
     "traceback": [
      "An exception has occurred, use %tb to see the full traceback.\n",
      "\u001b[1;31mSystemExit\u001b[0m\u001b[1;31m:\u001b[0m 0\n"
     ]
    },
    {
     "name": "stderr",
     "output_type": "stream",
     "text": [
      "C:\\Users\\indra\\anaconda3\\lib\\site-packages\\IPython\\core\\interactiveshell.py:3339: UserWarning: To exit: use 'exit', 'quit', or Ctrl-D.\n",
      "  warn(\"To exit: use 'exit', 'quit', or Ctrl-D.\", stacklevel=1)\n"
     ]
    }
   ],
   "source": [
    "app = QApplication([])\n",
    "\n",
    "ms = uic.loadUi(\"Calculator.ui\")\n",
    "ms.show()\n",
    "\n",
    "ms.button_add.clicked.connect(display_add)\n",
    "ms.button_sub.clicked.connect(display_sub)\n",
    "ms.button_mul.clicked.connect(display_mul)\n",
    "ms.button_div.clicked.connect(display_div)\n",
    "ms.button_exp.clicked.connect(display_exp)\n",
    "ms.button_pc.clicked.connect(display_pc)\n",
    "\n",
    "sys.exit(app.exec_())"
   ]
  }
 ],
 "metadata": {
  "kernelspec": {
   "display_name": "Python 3",
   "language": "python",
   "name": "python3"
  },
  "language_info": {
   "codemirror_mode": {
    "name": "ipython",
    "version": 3
   },
   "file_extension": ".py",
   "mimetype": "text/x-python",
   "name": "python",
   "nbconvert_exporter": "python",
   "pygments_lexer": "ipython3",
   "version": "3.7.6"
  }
 },
 "nbformat": 4,
 "nbformat_minor": 4
}
