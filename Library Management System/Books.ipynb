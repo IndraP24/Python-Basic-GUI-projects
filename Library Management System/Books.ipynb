{
 "cells": [
  {
   "cell_type": "code",
   "execution_count": 1,
   "metadata": {},
   "outputs": [],
   "source": [
    "import mysql.connector as sql"
   ]
  },
  {
   "cell_type": "code",
   "execution_count": 2,
   "metadata": {},
   "outputs": [],
   "source": [
    "mydb = sql.connect(host=\"localhost\", user=\"root\", password=\"\")\n",
    "\n",
    "cursor = mydb.cursor()\n",
    "db = \"create database Books\"\n",
    "cursor.execute(db)\n",
    "\n",
    "mydb.close()"
   ]
  },
  {
   "cell_type": "code",
   "execution_count": 6,
   "metadata": {},
   "outputs": [],
   "source": [
    "mydb = sql.connect(host=\"localhost\", user=\"root\", password=\"\", database=\"Books\")\n",
    "\n",
    "cursor = mydb.cursor()\n",
    "table = \"create table Books1(id integer auto_increment primary key, Title text, Author text );\"\n",
    "cursor.execute(table)\n",
    "\n",
    "mydb.close()"
   ]
  },
  {
   "cell_type": "code",
   "execution_count": 11,
   "metadata": {},
   "outputs": [],
   "source": [
    "books = [\"Computer Fundamentals and Programming in C\",\n",
    "        \"Computer Networks for ANNA University\",\n",
    "        \"Object Oriented Analysis and Design\",\n",
    "        \"Computer and Information Sciences\",\n",
    "        \"Parallel Computing\",\n",
    "        \"The Network Designer’s Handbook: 51 CSE\",\n",
    "        \"Parallel Programming and Applications\",\n",
    "        \"Formal Methods and Software Development\",\n",
    "        \"Computer Graphics\",\n",
    "        \"Fundamentals of Computer Science Engineering\",\n",
    "        \"Artificial Intelligence: A Modern Approach\",\n",
    "        \"Pattern Recognition and Machine Learning\",\n",
    "        \"Python Machine Learning\",\n",
    "        \"Neural Networks and Learning Machines\"]\n",
    "\n",
    "author = [\"Reema Thareja\",\n",
    "        \"I.A.Dhotre V.S.Bagad\",\n",
    "        \"Siddharth Santosh\",\n",
    "        \"T. Dayar\",\n",
    "        \"M. Bader and A. Bode\",\n",
    "        \" A.M. Jones\",\n",
    "        \"Peter A. Fritzson and L. Finmo\",\n",
    "        \"Maurice Nivat and Hartmut Ehrig\",\n",
    "        \"S.Sharanya\",\n",
    "        \"A. P. Godse, A. A. Puntambekar\",\n",
    "        \"Peter Norvig\",\n",
    "        \"Christopher Bishop\",\n",
    "        \"Sebastian Raschka\",\n",
    "        \"Simon S. Haykin\"]"
   ]
  },
  {
   "cell_type": "code",
   "execution_count": 12,
   "metadata": {},
   "outputs": [
    {
     "data": {
      "text/plain": [
       "14"
      ]
     },
     "execution_count": 12,
     "metadata": {},
     "output_type": "execute_result"
    }
   ],
   "source": [
    "len(books)"
   ]
  },
  {
   "cell_type": "code",
   "execution_count": 14,
   "metadata": {},
   "outputs": [],
   "source": [
    "mydb = sql.connect(host=\"localhost\", user=\"root\", password=\"\", database=\"Books\")\n",
    "\n",
    "cursor = mydb.cursor()\n",
    "for i in range(14):\n",
    "    idata = \"insert into Books1(Title, Author) values('{}', '{}')\".format(books[i], author[i])\n",
    "    cursor.execute(idata)\n",
    "    mydb.commit()\n",
    "\n",
    "mydb.close()"
   ]
  },
  {
   "cell_type": "code",
   "execution_count": null,
   "metadata": {},
   "outputs": [],
   "source": []
  }
 ],
 "metadata": {
  "kernelspec": {
   "display_name": "Python 3",
   "language": "python",
   "name": "python3"
  },
  "language_info": {
   "codemirror_mode": {
    "name": "ipython",
    "version": 3
   },
   "file_extension": ".py",
   "mimetype": "text/x-python",
   "name": "python",
   "nbconvert_exporter": "python",
   "pygments_lexer": "ipython3",
   "version": "3.7.6"
  }
 },
 "nbformat": 4,
 "nbformat_minor": 4
}
