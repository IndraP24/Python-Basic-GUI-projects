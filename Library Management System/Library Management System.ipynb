{
 "cells": [
  {
   "cell_type": "code",
   "execution_count": 1,
   "metadata": {},
   "outputs": [],
   "source": [
    "from PyQt5 import QtWidgets, uic\n",
    "from PyQt5.QtWidgets import QApplication\n",
    "import sys\n",
    "import mysql.connector as sql\n",
    "import datetime"
   ]
  },
  {
   "cell_type": "code",
   "execution_count": 2,
   "metadata": {},
   "outputs": [],
   "source": [
    "mydb = sql.connect(host=\"localhost\", user=\"root\", password=\"\", database=\"books\")\n",
    "#connecting and fetching all the data present in books1 table\n",
    "#books1 table contains a series of books along with their authors and BookIDs\n",
    "cursor = mydb.cursor()\n",
    "fdata = \"select * from books1\"\n",
    "cursor.execute(fdata)\n",
    "res = cursor.fetchall()\n",
    "\n",
    "def book_show(item):\n",
    "    '''\n",
    "    function that displays the Book ID amd Author from the selected Book in the list\n",
    "    '''\n",
    "    for i in res:\n",
    "        if i[1] == item.text():\n",
    "            lib.id.setText(str(i[0]))\n",
    "            lib.title.setText(i[1])\n",
    "            lib.author.setText(i[2])\n",
    "            lib.dbor.setText(datetime.date.today().strftime(\"%d/%m/%Y\"))\n",
    "            dt =( datetime.date.today() + datetime.timedelta(days=14)).strftime(\"%d/%m/%Y\")\n",
    "            lib.ddue.setText(dt)\n",
    "            break;   "
   ]
  },
  {
   "cell_type": "code",
   "execution_count": 3,
   "metadata": {},
   "outputs": [],
   "source": [
    "def confirm():\n",
    "    '''\n",
    "    function that stores all the data from main UI window in the Roster table of the database and displays it on the Next Window\n",
    "    '''\n",
    "    member = lib.comboBox.currentText()\n",
    "    regno = lib.regno.text()\n",
    "    name = lib.comboBox_2.currentText() + ' ' + lib.name.text()\n",
    "    mail = lib.mail.text()\n",
    "    bid = lib.id.text()\n",
    "    btitle = lib.title.text()\n",
    "    bauthor = lib.author.text()\n",
    "    dbor = datetime.datetime.strptime(lib.dbor.text(), \"%d/%m/%Y\").date()\n",
    "    ddue = datetime.datetime.strptime(lib.ddue.text(), \"%d/%m/%Y\").date()\n",
    "    \n",
    "    idata = \"insert into roster(member, regno, name, mailid, bookid, booktitle, bookauthor, dbor, ddue) values('{}', '{}', '{}', '{}', '{}', '{}', '{}', '{}', '{}')\".format(member, regno, name, mail, bid, btitle, bauthor, dbor, ddue)\n",
    "    cursor.execute(idata)\n",
    "    mydb.commit()\n",
    "    \n",
    "    lib.close()\n",
    "    rev.show()\n",
    "    rev.name.setText(member + \" - \" + name)\n",
    "    rev.regno.setText(regno)\n",
    "    rev.mid.setText(mail)\n",
    "    rev.bid.setText(bid)\n",
    "    rev.btitle.setText(btitle)\n",
    "    rev.bauthor.setText(bauthor)\n",
    "    rev.dbor.setText(dbor.strftime(\"%d/%m/%Y\"))\n",
    "    rev.ddue.setText(ddue.strftime(\"%d/%m/%Y\"))\n",
    "    \n",
    "    #on clicking the Done button, the window will close\n",
    "    rev.pushButton.clicked.connect(done)"
   ]
  },
  {
   "cell_type": "code",
   "execution_count": 4,
   "metadata": {},
   "outputs": [],
   "source": [
    "def quit():\n",
    "    lib.close()"
   ]
  },
  {
   "cell_type": "code",
   "execution_count": 5,
   "metadata": {},
   "outputs": [],
   "source": [
    "def done():\n",
    "    rev.close()"
   ]
  },
  {
   "cell_type": "code",
   "execution_count": 6,
   "metadata": {},
   "outputs": [
    {
     "ename": "SystemExit",
     "evalue": "0",
     "output_type": "error",
     "traceback": [
      "An exception has occurred, use %tb to see the full traceback.\n",
      "\u001b[1;31mSystemExit\u001b[0m\u001b[1;31m:\u001b[0m 0\n"
     ]
    },
    {
     "name": "stderr",
     "output_type": "stream",
     "text": [
      "C:\\Users\\indra\\anaconda3\\lib\\site-packages\\IPython\\core\\interactiveshell.py:3339: UserWarning: To exit: use 'exit', 'quit', or Ctrl-D.\n",
      "  warn(\"To exit: use 'exit', 'quit', or Ctrl-D.\", stacklevel=1)\n"
     ]
    }
   ],
   "source": [
    "app = QApplication([])\n",
    "\n",
    "lib = uic.loadUi(\"Library Main.ui\")\n",
    "rev = uic.loadUi(\"Review.ui\")\n",
    "lib.show()\n",
    "lib.bookslist.itemClicked.connect(book_show)\n",
    "lib.confirm.clicked.connect(confirm)\n",
    "lib.quit.clicked.connect(quit)\n",
    "\n",
    "sys.exit(app.exec_())"
   ]
  },
  {
   "cell_type": "code",
   "execution_count": 7,
   "metadata": {},
   "outputs": [],
   "source": [
    "mydb.close()"
   ]
  },
  {
   "cell_type": "code",
   "execution_count": null,
   "metadata": {},
   "outputs": [],
   "source": []
  }
 ],
 "metadata": {
  "kernelspec": {
   "display_name": "Python 3",
   "language": "python",
   "name": "python3"
  },
  "language_info": {
   "codemirror_mode": {
    "name": "ipython",
    "version": 3
   },
   "file_extension": ".py",
   "mimetype": "text/x-python",
   "name": "python",
   "nbconvert_exporter": "python",
   "pygments_lexer": "ipython3",
   "version": "3.7.6"
  }
 },
 "nbformat": 4,
 "nbformat_minor": 4
}
